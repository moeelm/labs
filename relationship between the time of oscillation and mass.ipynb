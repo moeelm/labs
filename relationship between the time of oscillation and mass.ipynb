{
 "cells": [
  {
   "cell_type": "markdown",
   "metadata": {},
   "source": [
    "Mohammed Elmzaghi, Maytte Cadena, Jesus Robayo \n",
    "Mr.Enrico\n",
    "Physics Honors Period 3\n",
    "8 December 2016"
   ]
  },
  {
   "cell_type": "code",
   "execution_count": 3,
   "metadata": {
    "collapsed": true
   },
   "outputs": [],
   "source": [
    "%matplotlib inline"
   ]
  },
  {
   "cell_type": "markdown",
   "metadata": {},
   "source": [
    "## Relationship Between the Time of Oscillation and Mass"
   ]
  },
  {
   "cell_type": "markdown",
   "metadata": {},
   "source": [
    "### Introduction"
   ]
  },
  {
   "cell_type": "markdown",
   "metadata": {
    "collapsed": true
   },
   "source": [
    "According to Newton's first law of motion, an object that is oscillating back and forth has had a force acting upon it. In our lab experiment, by using different masses we want to find out the relationship between the amount of force weight has on a spring with how long it takes for the spring to oscillate a set amount of times. Observing the relationship of time of oscillations and the mass of an object on a spring is an example of simple harmonic motion. "
   ]
  },
  {
   "cell_type": "markdown",
   "metadata": {},
   "source": [
    "### Procedure \n",
    "\n",
    "\n",
    "Gather different weights intended for use in this experiment. Place each weight individually onto the spring tool. Have a controlled distance in which the spring will be pulled down from the original starting point. Time the amount of seconds that the each weight will do in a certain amount of oscillations. Lastly, identify the intervals in where the oscillation is occuring at.\n"
   ]
  },
  {
   "cell_type": "markdown",
   "metadata": {
    "collapsed": true
   },
   "source": [
    "![random ](http://wikipremed.com/image_science_archive_68/010106_68/113650_14601_68.jpg)"
   ]
  },
  {
   "cell_type": "markdown",
   "metadata": {},
   "source": [
    "### Data and Analysis"
   ]
  },
  {
   "cell_type": "markdown",
   "metadata": {},
   "source": [
    "|Weight(grams)|time(seconds)| oscillation intervals (centimeters)|\n",
    "|-------------|-------|-------------------|\n",
    "|40       | 3.7 | 3-6 |\n",
    "|50         | 4   | 3-7|\n",
    "|70          | 6  |5-8|\n",
    "|90          |7  |6-9|\n",
    "|100          |7    |7-10|\n"
   ]
  },
  {
   "cell_type": "code",
   "execution_count": 6,
   "metadata": {
    "collapsed": false
   },
   "outputs": [
    {
     "name": "stdout",
     "output_type": "stream",
     "text": [
      "0.0611538461518 1.25923076923\n"
     ]
    },
    {
     "data": {
      "image/png": "[encoded data removed]",
      "text/plain": [
       "<matplotlib.figure.Figure at 0x7f20240>"
      ]
     },
     "metadata": {},
     "output_type": "display_data"
    }
   ],
   "source": [
    "import matplotlib.pyplot as plt \n",
    "import numpy as np \n",
    "from scipy.optimize import curve_fit \n",
    "\n",
    "xx= np.linspace (0,150,10)\n",
    "\n",
    "def lm(x,a,b):\n",
    "    return a*x+b\n",
    "\n",
    "x=np.array([40,50,70,90,100])\n",
    "y=np.array([3.7,4,6,7,7])\n",
    "\n",
    "a,b= curve_fit(lm,x,y)[0]\n",
    "plt.plot(xx, lm(xx,a,b),'co')\n",
    "print(a,b)\n",
    "\n",
    "plt. ylabel ('Time in Seconds')\n",
    "plt. xlabel ('Weight in grams')\n",
    "plt.title ('Relationship Between The Time of Oscillations and Mass')\n",
    "\n",
    "plt.show ()"
   ]
  },
  {
   "cell_type": "markdown",
   "metadata": {},
   "source": [
    "Equation of line:\n",
    "$$y=0.0612x+1.2592$$\n",
    "\n"
   ]
  },
  {
   "cell_type": "markdown",
   "metadata": {},
   "source": [
    "Hooke's Law which describes the proportionality between the force, $F$ needed to extend or compress a spring and some distance of $X$ as seen in:\n",
    "$$\\ddot{X}= \\frac {-k} {m} x$$\n",
    "\n",
    "The number of oscillations or $frequency$ can determined as follows: \n",
    "$$f= \\frac {\\omega} {2\\pi}$$\n",
    "\n",
    "Ocsillation Period:\n",
    "$$T=2\\pi \\sqrt\\frac{m}{k}$$"
   ]
  },
  {
   "cell_type": "markdown",
   "metadata": {},
   "source": [
    "### Conclusion"
   ]
  },
  {
   "cell_type": "markdown",
   "metadata": {
    "collapsed": true
   },
   "source": [
    "Our data produced a linear graph. This experiment involving simple harmonic motion usually is represented in a sine or cosine wave also known as a sinusoidal function. Taking the second derivative of $x_1=Acos(\\omega t)$ and $x_2=Bsin(\\omega t)$, we find that their double derivatives are as follows:\n",
    "$$\\ddot{x_1}=-A \\omega^2 sin(\\omega t)$$\n",
    "$$\\ddot {x_2}= -B\\omega^2 sin(\\omega t)$$\n",
    "\n",
    "Seeing that these two equations have the same double derivative, we can conclude that the repetitive oscillations that we encountered when we pulled the weight and released it are synonymous with the sine and cosine waves whose oscillations, too, occur within a fixed value set. \n",
    "In our data, we obtained a linear model. This can be explained from the property that differentials are linear operators. Hooke's Law, also, is expressed in a linear equation."
   ]
  },
  {
   "cell_type": "code",
   "execution_count": null,
   "metadata": {
    "collapsed": true
   },
   "outputs": [],
   "source": []
  }
 ],
 "metadata": {
  "kernelspec": {
   "display_name": "Python 3",
   "language": "python",
   "name": "python3"
  },
  "language_info": {
   "codemirror_mode": {
    "name": "ipython",
    "version": 3
   },
   "file_extension": ".py",
   "mimetype": "text/x-python",
   "name": "python",
   "nbconvert_exporter": "python",
   "pygments_lexer": "ipython3",
   "version": "3.4.3"
  }
 },
 "nbformat": 4,
 "nbformat_minor": 0
}
