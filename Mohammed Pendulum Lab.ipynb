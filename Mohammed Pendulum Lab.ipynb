{
 "cells": [
  {
   "cell_type": "code",
   "execution_count": 4,
   "metadata": {
    "collapsed": false
   },
   "outputs": [],
   "source": [
    "%matplotlib inline"
   ]
  },
  {
   "cell_type": "markdown",
   "metadata": {},
   "source": [
    "# Physical Pendulum Lab"
   ]
  },
  {
   "cell_type": "markdown",
   "metadata": {},
   "source": [
    "Mohammed Elmzaghi Physics Honors Period 3 December 25 2016"
   ]
  },
  {
   "cell_type": "markdown",
   "metadata": {},
   "source": [
    "## Introduction\n",
    "A physical pendulum is where the object's mass is not concentrated in a single point and instead evenly distributed. The object is fixed on a pivot where the oscillations are observed. To evaluate the torque, center of mass, moment of inertia and the period of the pendulum, using small displacements for $\\theta$, will be sufficient to solve for the general solution. \n",
    "$$\\theta(t)=\\theta{_o}cos(\\sqrt \\frac{g}{L}+\\phi)$$\n",
    "#### Simple Pendulum:\n",
    "![image for physical pendulum](http://hyperphysics.phy-astr.gsu.edu/hbase/imgmec/pend2.gif)\n",
    "\n",
    "\n",
    "*We use $\\theta$ for $sin\\theta$ for small displacements\n",
    "\n",
    "$\\ddot\\theta=-\\frac{g}{L}sin\\theta$\n",
    "\n",
    "$\\ddot\\theta=-\\frac{g}{L}$\n"
   ]
  },
  {
   "cell_type": "markdown",
   "metadata": {},
   "source": [
    "## Procedure\n",
    "Use a stone block with dimensions 3 inches by 2 inches as seen in Figure 1a: \n",
    "![image of block](http://ep.yimg.com/ay/yhst-38469118952219/ceramic-block-magnet-2-090-x-1-260-x-0-350-4.jpg)\n",
    "Using a power drill, make a hole in the corner of the block to be used as an axis of rotation for the object. Insert a steel machine screw into the stone block to suspend the stone block. Clamp the screw to a flat surface, preferably a desk or table, suspending the stone. Use small displacements for the stone for the so\n",
    "\n",
    "For the period, use:\n",
    "$$T=2\\pi\\sqrt\\frac {I}{Dmg}$$\n",
    "\n"
   ]
  },
  {
   "cell_type": "markdown",
   "metadata": {},
   "source": [
    "## Data Analysis"
   ]
  },
  {
   "cell_type": "markdown",
   "metadata": {},
   "source": [
    "## Conclusion"
   ]
  }
 ],
 "metadata": {
  "kernelspec": {
   "display_name": "Python 3",
   "language": "python",
   "name": "python3"
  },
  "language_info": {
   "codemirror_mode": {
    "name": "ipython",
    "version": 3
   },
   "file_extension": ".py",
   "mimetype": "text/x-python",
   "name": "python",
   "nbconvert_exporter": "python",
   "pygments_lexer": "ipython3",
   "version": "3.4.4"
  }
 },
 "nbformat": 4,
 "nbformat_minor": 0
}
